{
 "cells": [
  {
   "cell_type": "markdown",
   "metadata": {},
   "source": [
    "# SPAM DETECTION OF YOU-TUBE COMMENTS USING RNN\n",
    "### The necessary imports to perform preprocessing and "
   ]
  },
  {
   "cell_type": "code",
   "execution_count": 265,
   "metadata": {},
   "outputs": [],
   "source": [
    "\n",
    "import pandas as pd\n",
    "from string import punctuation\n",
    "import matplotlib.pyplot as plt \n",
    "from nltk.tokenize import WhitespaceTokenizer\n",
    "from nltk.stem import WordNetLemmatizer\n",
    "import nltk\n",
    "import tensorflow as tf\n",
    "from sklearn.model_selection import train_test_split\n",
    "from tensorflow.keras.preprocessing.text import Tokenizer  \n",
    "from tensorflow.keras.preprocessing.sequence import pad_sequences "
   ]
  },
  {
   "cell_type": "markdown",
   "metadata": {},
   "source": [
    "### Loading all Datasets"
   ]
  },
  {
   "cell_type": "code",
   "execution_count": 266,
   "metadata": {},
   "outputs": [],
   "source": [
    "\n",
    "dfPsy = pd.read_csv(r\"YouTube-Spam-Collection-v1/Youtube01-Psy.csv\")\n",
    "dfKatyPerry = pd.read_csv(r\"YouTube-Spam-Collection-v1/Youtube02-KatyPerry.csv\")\n",
    "dfLMFAO = pd.read_csv(r\"YouTube-Spam-Collection-v1/Youtube03-LMFAO.csv\")\n",
    "dfEminem = pd.read_csv(r\"YouTube-Spam-Collection-v1/Youtube04-Eminem.csv\")\n",
    "dfShakira = pd.read_csv(r\"YouTube-Spam-Collection-v1/Youtube05-Shakira.csv\")\n",
    "\n",
    "# Concatinating all the datasets to a single file.\n",
    "df = pd.concat([dfPsy, dfKatyPerry, dfLMFAO, dfEminem, dfShakira])"
   ]
  },
  {
   "cell_type": "markdown",
   "metadata": {},
   "source": [
    "### Initializing tokenizer and lemmatizer and writing a function for the preprocessing task"
   ]
  },
  {
   "cell_type": "code",
   "execution_count": 267,
   "metadata": {},
   "outputs": [],
   "source": [
    "w_tokenizer = WhitespaceTokenizer()\n",
    "lemmatizer = WordNetLemmatizer()\n",
    "\n",
    "def preprocess(col):\n",
    "    '''\n",
    "    Preprocessing includes: converting to lowercase, removing punctuation, tokenizing and lemmatizing\n",
    "    input: text row of dataframe\n",
    "    output: list with lemmatized words\n",
    "    '''\n",
    "    col = col.lower()\n",
    "    col = [char for char in col if char not in punctuation]\n",
    "    #rejoin the characters after removing punctuation\n",
    "    col = ''.join(col)\n",
    "    #tokenize and add pos tag so lemmatizer doesn't see all words as nouns\n",
    "    col = nltk.pos_tag(w_tokenizer.tokenize(col))\n",
    "    #lemmatize with WordNetLemmatizer\n",
    "    return \" \".join([lemmatizer.lemmatize(word, tag[0]) if tag[0] in ['a', 'r', 'n', 'v'] else word for word, tag in col])\n",
    "#return [lemmatizer.lemmatize(word, tag[0].lower()) if tag[0].lower() in ['a', 'r', 'n', 'v'] else word for word, tag in col]"
   ]
  },
  {
   "cell_type": "markdown",
   "metadata": {},
   "source": [
    "### Dropping the NA values"
   ]
  },
  {
   "cell_type": "code",
   "execution_count": 268,
   "metadata": {},
   "outputs": [],
   "source": [
    "df[\"CONTENT\"]=df[\"CONTENT\"].dropna()"
   ]
  },
  {
   "cell_type": "markdown",
   "metadata": {},
   "source": [
    "### Applying preprocessing to the Content column of the dataset."
   ]
  },
  {
   "cell_type": "code",
   "execution_count": 269,
   "metadata": {},
   "outputs": [],
   "source": [
    "df[\"CONTENT\"]=df[\"CONTENT\"].apply(preprocess)"
   ]
  },
  {
   "cell_type": "markdown",
   "metadata": {},
   "source": [
    "### Performing the train-test split on the dataset (70/30 split)"
   ]
  },
  {
   "cell_type": "code",
   "execution_count": 270,
   "metadata": {},
   "outputs": [],
   "source": [
    "X = df[\"CONTENT\"]\n",
    "Y = df[\"CLASS\"]\n",
    "X_train,X_test,Y_train,Y_test = train_test_split(X,Y,test_size = .3,random_state = 42)"
   ]
  },
  {
   "cell_type": "markdown",
   "metadata": {},
   "source": [
    "### Parameters for tokenizing the data and creating a word vocabulary."
   ]
  },
  {
   "cell_type": "code",
   "execution_count": 272,
   "metadata": {},
   "outputs": [],
   "source": [
    "max_len = 50  \n",
    "trunc_type = \"post\"   \n",
    "padding_type = \"pre\"   \n",
    "oov_tok = \"<OOV>\"   \n",
    "vocab_size = 500"
   ]
  },
  {
   "cell_type": "markdown",
   "metadata": {},
   "source": [
    "### Creating an instance of the tokenizer with necessary parameters mentioned above and fit_on_texts updates the internal vocabulary dictionary based on the index of the words in the sentence."
   ]
  },
  {
   "cell_type": "code",
   "execution_count": 273,
   "metadata": {},
   "outputs": [],
   "source": [
    "tokenizer = Tokenizer(num_words = vocab_size, char_level=False, oov_token = oov_tok)  \n",
    "tokenizer.fit_on_texts(X_train)"
   ]
  },
  {
   "cell_type": "markdown",
   "metadata": {},
   "source": [
    "### Padding the tokenized training and testing set of the Content with the max-len which is passed as a parameter above."
   ]
  },
  {
   "cell_type": "code",
   "execution_count": 274,
   "metadata": {},
   "outputs": [],
   "source": [
    "training_sequences = tokenizer.texts_to_sequences(X_train)  \n",
    "training_padded = pad_sequences (training_sequences, maxlen = max_len, padding = padding_type, truncating = trunc_type )\n",
    "testing_sequences = tokenizer.texts_to_sequences(X_test)  \n",
    "testing_padded = pad_sequences(testing_sequences, maxlen = max_len,  \n",
    "padding = padding_type, truncating = trunc_type)"
   ]
  },
  {
   "cell_type": "markdown",
   "metadata": {},
   "source": [
    "### Checking the shape of both the training and testing tensor before model implementation."
   ]
  },
  {
   "cell_type": "code",
   "execution_count": 275,
   "metadata": {},
   "outputs": [
    {
     "name": "stdout",
     "output_type": "stream",
     "text": [
      "Shape of training tensor:  (1369, 50)\n",
      "Shape of testing tensor:  (587, 50)\n"
     ]
    }
   ],
   "source": [
    "print('Shape of training tensor: ', training_padded.shape)  \n",
    "print('Shape of testing tensor: ', testing_padded.shape)"
   ]
  },
  {
   "cell_type": "markdown",
   "metadata": {},
   "source": [
    "### Implementation of the RNN Model by assigning the embedding layer, RNN layers, Dropout Layer and the Dense Layer."
   ]
  },
  {
   "cell_type": "code",
   "execution_count": 288,
   "metadata": {},
   "outputs": [
    {
     "name": "stdout",
     "output_type": "stream",
     "text": [
      "Model: \"sequential_43\"\n",
      "_________________________________________________________________\n",
      "Layer (type)                 Output Shape              Param #   \n",
      "=================================================================\n",
      "embedding_43 (Embedding)     (None, 50, 16)            8000      \n",
      "_________________________________________________________________\n",
      "simple_rnn_68 (SimpleRNN)    (None, 50, 20)            740       \n",
      "_________________________________________________________________\n",
      "simple_rnn_69 (SimpleRNN)    (None, 16)                592       \n",
      "_________________________________________________________________\n",
      "dropout_23 (Dropout)         (None, 16)                0         \n",
      "_________________________________________________________________\n",
      "dense_43 (Dense)             (None, 1)                 17        \n",
      "=================================================================\n",
      "Total params: 9,349\n",
      "Trainable params: 9,349\n",
      "Non-trainable params: 0\n",
      "_________________________________________________________________\n"
     ]
    }
   ],
   "source": [
    "model = tf.keras.Sequential([\n",
    "    tf.keras.layers.Embedding(500,16,input_length=50),\n",
    "    tf.keras.layers.SimpleRNN(20,return_sequences=True,activation = \"relu\"),\n",
    "    tf.keras.layers.SimpleRNN(16,return_sequences=False,activation = \"relu\"),\n",
    "    # tf.keras.layers.SimpleRNN(16,return_sequences=False),\n",
    "    tf.keras.layers.Dropout(0.2),\n",
    "    tf.keras.layers.Dense(1, activation='sigmoid')\n",
    "])\n",
    "model.compile(loss='binary_crossentropy',optimizer=\"adam\",metrics=['accuracy'])\n",
    "model.summary()"
   ]
  },
  {
   "cell_type": "markdown",
   "metadata": {},
   "source": [
    "### Implementation of a Deep Vertical Neural Network."
   ]
  },
  {
   "cell_type": "code",
   "execution_count": null,
   "metadata": {},
   "outputs": [],
   "source": [
    "# model = tf.keras.Sequential([\n",
    "#     tf.keras.layers.Embedding(1000,32,input_length=50),\n",
    "#     tf.keras.layers.SimpleRNN(128,return_sequences=True),\n",
    "#     tf.keras.layers.SimpleRNN(128,return_sequences=True),\n",
    "#     tf.keras.layers.SimpleRNN(128,return_sequences=False),\n",
    "#     # tf.keras.layers.SimpleRNN(16,return_sequences=False),\n",
    "#     tf.keras.layers.Dropout(0.2),\n",
    "#     tf.keras.layers.Dense(1, activation='sigmoid')\n",
    "# ])\n",
    "# model.compile(loss='binary_crossentropy',optimizer=\"adam\",metrics=['accuracy'])\n",
    "# model.summary()"
   ]
  },
  {
   "cell_type": "markdown",
   "metadata": {},
   "source": [
    "### Fitting of the model and batching it and training the model for 20 epochs."
   ]
  },
  {
   "cell_type": "code",
   "execution_count": 289,
   "metadata": {},
   "outputs": [
    {
     "name": "stdout",
     "output_type": "stream",
     "text": [
      "Epoch 1/20\n",
      "43/43 [==============================] - 1s 27ms/step - loss: 0.6788 - accuracy: 0.6070 - val_loss: 0.6470 - val_accuracy: 0.6661\n",
      "Epoch 2/20\n",
      "43/43 [==============================] - 1s 16ms/step - loss: 0.5409 - accuracy: 0.7582 - val_loss: 0.4214 - val_accuracy: 0.8620\n",
      "Epoch 3/20\n",
      "43/43 [==============================] - 1s 16ms/step - loss: 0.3992 - accuracy: 0.8568 - val_loss: 0.4179 - val_accuracy: 0.8296\n",
      "Epoch 4/20\n",
      "43/43 [==============================] - 1s 19ms/step - loss: 0.3341 - accuracy: 0.8736 - val_loss: 0.2777 - val_accuracy: 0.8927\n",
      "Epoch 5/20\n",
      "43/43 [==============================] - 1s 17ms/step - loss: 0.2678 - accuracy: 0.9036 - val_loss: 0.2615 - val_accuracy: 0.8978\n",
      "Epoch 6/20\n",
      "43/43 [==============================] - 1s 20ms/step - loss: 0.2208 - accuracy: 0.9175 - val_loss: 0.2418 - val_accuracy: 0.8910\n",
      "Epoch 7/20\n",
      "43/43 [==============================] - 1s 26ms/step - loss: 0.1787 - accuracy: 0.9284 - val_loss: 0.2583 - val_accuracy: 0.8893\n",
      "Epoch 8/20\n",
      "43/43 [==============================] - 1s 18ms/step - loss: 0.1631 - accuracy: 0.9372 - val_loss: 0.2421 - val_accuracy: 0.9012\n",
      "Epoch 9/20\n",
      "43/43 [==============================] - 1s 19ms/step - loss: 0.1394 - accuracy: 0.9467 - val_loss: 0.2539 - val_accuracy: 0.8944\n",
      "Epoch 10/20\n",
      "43/43 [==============================] - 1s 17ms/step - loss: 0.1351 - accuracy: 0.9459 - val_loss: 0.2600 - val_accuracy: 0.8961\n",
      "Epoch 11/20\n",
      "43/43 [==============================] - 1s 17ms/step - loss: 0.1315 - accuracy: 0.9489 - val_loss: 0.2491 - val_accuracy: 0.9080\n",
      "Epoch 12/20\n",
      "43/43 [==============================] - 1s 17ms/step - loss: 0.1207 - accuracy: 0.9489 - val_loss: 0.2639 - val_accuracy: 0.9063\n",
      "Epoch 13/20\n",
      "43/43 [==============================] - 1s 17ms/step - loss: 0.1090 - accuracy: 0.9569 - val_loss: 0.2470 - val_accuracy: 0.9097\n",
      "Epoch 14/20\n",
      "43/43 [==============================] - 1s 19ms/step - loss: 0.0979 - accuracy: 0.9598 - val_loss: 0.2584 - val_accuracy: 0.9029\n",
      "Epoch 15/20\n",
      "43/43 [==============================] - 1s 19ms/step - loss: 0.0896 - accuracy: 0.9591 - val_loss: 0.2803 - val_accuracy: 0.9012\n",
      "Epoch 16/20\n",
      "43/43 [==============================] - 1s 21ms/step - loss: 0.0862 - accuracy: 0.9635 - val_loss: 0.2886 - val_accuracy: 0.9029\n",
      "Epoch 17/20\n",
      "43/43 [==============================] - 1s 19ms/step - loss: 0.0941 - accuracy: 0.9598 - val_loss: 0.2689 - val_accuracy: 0.9046\n",
      "Epoch 18/20\n",
      "43/43 [==============================] - 1s 18ms/step - loss: 0.0884 - accuracy: 0.9606 - val_loss: 0.2757 - val_accuracy: 0.8910\n",
      "Epoch 19/20\n",
      "43/43 [==============================] - 1s 17ms/step - loss: 0.0803 - accuracy: 0.9679 - val_loss: 0.2879 - val_accuracy: 0.9029\n",
      "Epoch 20/20\n",
      "43/43 [==============================] - 1s 18ms/step - loss: 0.0787 - accuracy: 0.9642 - val_loss: 0.2947 - val_accuracy: 0.9046\n"
     ]
    }
   ],
   "source": [
    "import warnings\n",
    "warnings.filterwarnings(\"ignore\",category = DeprecationWarning)\n",
    "num_epochs = 20\n",
    "history_rnn = model.fit(training_padded, Y_train, epochs=num_epochs, validation_data=(testing_padded, Y_test),batch_size = 32)"
   ]
  },
  {
   "cell_type": "markdown",
   "metadata": {},
   "source": [
    "### Plotting the Training accuracy vs Validation Accuracy and Training Loss vs Validation Loss."
   ]
  },
  {
   "cell_type": "code",
   "execution_count": 290,
   "metadata": {},
   "outputs": [
    {
     "data": {
      "image/png": "[encoded data removed]",
      "text/plain": [
       "<Figure size 432x288 with 1 Axes>"
      ]
     },
     "metadata": {
      "needs_background": "light"
     },
     "output_type": "display_data"
    },
    {
     "data": {
      "image/png": "[encoded data removed]",
      "text/plain": [
       "<Figure size 432x288 with 1 Axes>"
      ]
     },
     "metadata": {
      "needs_background": "light"
     },
     "output_type": "display_data"
    }
   ],
   "source": [
    "import matplotlib.pyplot as plt\n",
    "%matplotlib inline\n",
    "acc = history_rnn.history['accuracy']\n",
    "val_acc = history_rnn.history['val_accuracy']\n",
    "loss = history_rnn.history['loss']\n",
    "val_loss = history_rnn.history['val_loss']\n",
    "epochs = range(len(acc))\n",
    "plt.plot(epochs, acc, '-', color='orange', label='Training acc')\n",
    "plt.plot(epochs, val_acc, '-', color='blue', label='Validation acc')\n",
    "plt.title('Training and validation accuracy')\n",
    "plt.legend()\n",
    "plt.show()\n",
    "\n",
    "\n",
    "plt.plot(epochs, loss, '-', color='orange', label='Training loss')\n",
    "plt.plot(epochs, val_loss,  '-', color='blue', label='Validation loss')\n",
    "plt.title('Training and validation loss')\n",
    "plt.legend()\n",
    "plt.show()"
   ]
  },
  {
   "cell_type": "markdown",
   "metadata": {},
   "source": [
    "## Result\n",
    "\n",
    "### We observe that the validation accuracy plateaus below the training accuracy around epoch 2.5. At the same time, the validation loss starts rising. This indicates overfitting again. The overall accuracy is quite high however. We also see several fluctuations in both the accuracy and the loss graph, this could have an effect of batching."
   ]
  },
  {
   "cell_type": "markdown",
   "metadata": {},
   "source": [
    "## References\n",
    "\n",
    "### 1) https://www.tensorflow.org/guide/data\n",
    "### 2) https://towardsdatascience.com/a-practical-guide-to-rnn-and-lstm-in-keras-980f176271bc\n",
    "### 3) https://stats.stackexchange.com/questions/270546/how-does-keras-embedding-layer-work\n",
    "### 4) https://keras.io/api/layers/recurrent_layers/simple_rnn/\n",
    "### 5) https://stackoverflow.com/questions/43362986/numpy-frombuffer-attributeerror-str-object-has-no-attribute-buffer\n",
    "### 6) https://www.gcptutorials.com/article/how-to-use-batch-method-in-tensorflow\n",
    "### 7) https://stackoverflow.com/questions/51956000/what-does-keras-tokenizer-method-exactly-do"
   ]
  },
  {
   "cell_type": "markdown",
   "metadata": {},
   "source": []
  }
 ],
 "metadata": {
  "interpreter": {
   "hash": "082e9a3bcad0a290d0001e938aa60b99250c6c2ef33a923c00b70f9826caf4b7"
  },
  "kernelspec": {
   "display_name": "Python 3.8.5 64-bit",
   "language": "python",
   "name": "python3"
  },
  "language_info": {
   "codemirror_mode": {
    "name": "ipython",
    "version": 3
   },
   "file_extension": ".py",
   "mimetype": "text/x-python",
   "name": "python",
   "nbconvert_exporter": "python",
   "pygments_lexer": "ipython3",
   "version": "3.8.5"
  },
  "orig_nbformat": 4
 },
 "nbformat": 4,
 "nbformat_minor": 2
}
